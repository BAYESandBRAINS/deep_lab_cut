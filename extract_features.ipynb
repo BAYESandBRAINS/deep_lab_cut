{
 "cells": [
  {
   "cell_type": "code",
   "execution_count": 137,
   "metadata": {},
   "outputs": [],
   "source": [
    "import os\n",
    "import glob\n",
    "import shutil \n",
    "import numpy as np \n",
    "import pandas as pd\n",
    "import warnings\n",
    "from pathlib import Path\n",
    "import matplotlib.pyplot as plt\n",
    "\n",
    "warnings.filterwarnings('ignore')"
   ]
  },
  {
   "attachments": {},
   "cell_type": "markdown",
   "metadata": {},
   "source": [
    "## Formulas to clean and organize the data\n",
    "### output will be the dlc_data_dict\n"
   ]
  },
  {
   "cell_type": "code",
   "execution_count": 138,
   "metadata": {},
   "outputs": [],
   "source": [
    "def clean_data(df):\n",
    "    #rename the columns based on the multi-index set up\n",
    "    for i in range(1, len(df.columns)):\n",
    "        j = df.iloc[1:4, i:i+1].values\n",
    "        col_name = str(j[0])+'_'+str(j[1])+'_'+str(j[2])\n",
    "        col_name = col_name.replace('[', '').replace(']', '').replace(\"'\", '')\n",
    "        df.rename(columns={i:col_name}, inplace=True)\n",
    "    #Reformat the sample data, remove the multi-index rows\n",
    "    df = df.iloc[4:, :]\n",
    "    df.rename(columns={0:'frame'}, inplace=True)\n",
    "    #Convert the data to floats\n",
    "    df = df.astype(float)\n",
    "    #Replace all instances of individual1 in column names with test_subject\n",
    "    #### important: For now BOTH of the stimulus animals are intruders.....\n",
    "    df.columns = df.columns.str.replace('individual1', 'testsubject')\n",
    "    df.columns = df.columns.str.replace('individual2', 'intruder')\n",
    "    #reset the index\n",
    "    df = df.reset_index(drop=True)\n",
    "    return df\n",
    "\n",
    "def organize_raw_data(list_of_csv_files):\n",
    "    #create a dictionary to store the dataframes\n",
    "    dlc_data_dict = {}\n",
    "    for data in list_of_csv_files:\n",
    "        #edit the filenames to remove commas and spaces\n",
    "        new_filename = data.replace(' ', '_').replace(',', '')\n",
    "        #get the subject and session ids\n",
    "        subject_id = new_filename.split('/')[-1].split('_')[0]\n",
    "        session_id = new_filename.split('_')[-2].split('_')[-1]\n",
    "        df = pd.read_csv(data, header=None)\n",
    "        df = clean_data(df)\n",
    "        #filter out the subjects recorded at low fps\n",
    "        if (df.shape)[0] > 4000:\n",
    "            #add the data to the dictionary of all raw dlc data\n",
    "            dlc_data_dict[f'{subject_id}_{session_id}'] = df\n",
    "    return dlc_data_dict\n"
   ]
  },
  {
   "cell_type": "code",
   "execution_count": 139,
   "metadata": {},
   "outputs": [],
   "source": [
    "cluster_dir = Path('/Users/carlydrzewiecki/Desktop/trainor_cluster/raw_dlc_data/')\n",
    "\n",
    "files_to_analyze = glob.glob(str(cluster_dir/'*.csv'))\n",
    "\n",
    "dlc_data_dict = organize_raw_data(files_to_analyze)"
   ]
  },
  {
   "attachments": {},
   "cell_type": "markdown",
   "metadata": {},
   "source": [
    "## Formulas for calculating distances\n",
    "#### These give you distances between animals and also location in the cage (rearing, dist from edges, etc)"
   ]
  },
  {
   "cell_type": "code",
   "execution_count": 140,
   "metadata": {},
   "outputs": [],
   "source": [
    "def euclidean_distance(x1, y1, x2, y2):\n",
    "    return np.sqrt((x2 - x1)**2 + (y2 - y1)**2)\n",
    "\n",
    "def get_distance_between_mice(df, sub1, body_part1, sub2, body_part2):\n",
    "    series = euclidean_distance(df[sub1+'_'+body_part1+'_x'], df[sub1+'_'+body_part1+'_y'], \n",
    "    df[sub2+'_'+body_part2+'_x'], df[sub2+'_'+body_part2+'_y'])\n",
    "    dist_df = pd.DataFrame(series)\n",
    "    return dist_df\n",
    "\n",
    "def get_distance_between_edge(df, sub1, body_part1, edge):\n",
    "    if edge == 'left':\n",
    "        series = euclidean_distance(df[sub1+'_'+body_part1+'_x'], 0, 0, 0)\n",
    "    elif edge == 'right':\n",
    "        series = euclidean_distance(df[sub1+'_'+body_part1+'_x'], 0, 1173, 0)\n",
    "        ## 1173 is the width of the arena in pixels (51 cm long, each cm is 23 pixels)\n",
    "    elif edge == 'bottom':\n",
    "        series = euclidean_distance(0, df[sub1+'_'+body_part1+'_y'], 0, 0)\n",
    "    dist_df = pd.DataFrame(series)\n",
    "    return dist_df\n"
   ]
  },
  {
   "cell_type": "markdown",
   "metadata": {},
   "source": [
    "## Formulas for calculating velocities"
   ]
  },
  {
   "cell_type": "code",
   "execution_count": 141,
   "metadata": {},
   "outputs": [],
   "source": [
    "def get_derivative(df, x, y):\n",
    "    df['dx'] = df[x].diff()\n",
    "    df['dy'] = df[y].diff()\n",
    "    #slope = rise/run\n",
    "    df['dist_traveled_by_frame'] = df['dy']/df['dx']\n",
    "    return df\n",
    "\n",
    "def smooth_data(df, window):\n",
    "    df_smoothed = df.rolling(window).median()\n",
    "    return df_smoothed\n",
    "\n",
    "def get_velocity(df, sub1, body_part1):\n",
    "    dist_list = []\n",
    "    for i in range(len(df)-1):\n",
    "        dist_traveled = euclidean_distance(df[sub1+'_'+body_part1+'_x'][i], df[sub1+'_'+body_part1+'_y'][i], df[sub1+'_'+body_part1+'_x'][i+1], df[sub1+'_'+body_part1+'_y'][i+1])\n",
    "        dist_list.append(dist_traveled)\n",
    "    dist_df = pd.DataFrame(dist_list)\n",
    "    #median smooth\n",
    "    #distance_smoothed = smooth_data(dist_df, 3)\n",
    "    #format this dataset so it makes sense....\n",
    "    dist_df.columns = ['distance_traveled']\n",
    "    dist_df['frame'] = df['frame']\n",
    "    #derive the velocity from the distance traveled over frames\n",
    "    velocity = get_derivative(dist_df, x = 'frame', y = 'distance_traveled')\n",
    "    return velocity\n",
    "\n",
    "def get_velocity_between_mice(df, sub1, body_part1, sub2, body_part2):\n",
    "    distance = get_distance_between_mice(df, sub1, body_part1, sub2, body_part2)\n",
    "    dist_df = pd.DataFrame(distance)\n",
    "    #distance_smoothed = smooth_data(dist_df, 3)\n",
    "    #format this dataset so it makes sense....\n",
    "    dist_df.columns = ['distance_between_subs']\n",
    "    dist_df['frame'] = df['frame']\n",
    "    # #derive the velocity from the distance traveled over frames\n",
    "    velocity = get_derivative(dist_df, x = 'frame', y = 'distance_between_subs')\n",
    "    return dist_df\n",
    "\n",
    "def clean_velocity(df):\n",
    "    if 'distance_traveled' in df.columns:\n",
    "        df = df.drop(columns = ['distance_traveled', 'frame', 'dx', 'dy'])\n",
    "        df['dist_traveled_by_frame'] = df['dist_traveled_by_frame'].abs()\n",
    "    elif 'distance_between_subs' in df.columns:\n",
    "        df = df.drop(columns = ['distance_between_subs', 'frame', 'dx', 'dy'])\n",
    "        #NOTE thaht we do not take the absolute value here \n",
    "        # because we want to know if the mice are moving towards or away from each other\n",
    "        df['dist_traveled_by_frame'] = df['dist_traveled_by_frame']\n",
    "        #change the column name to be more descriptive\n",
    "        df.rename(columns={'dist_traveled_by_frame':'dist_between_mice_by_frame'}, inplace=True)\n",
    "    return df"
   ]
  },
  {
   "cell_type": "markdown",
   "metadata": {},
   "source": [
    "## Formulas for calculating the orientation of the test mouse to the intruder"
   ]
  },
  {
   "cell_type": "code",
   "execution_count": 142,
   "metadata": {},
   "outputs": [],
   "source": [
    "def get_vector_lengths(df):\n",
    "    intruder_midpoint = np.array([df['intruder_midpoint_x'], df['intruder_midpoint_y']])\n",
    "    testsubject_midpoint = np.array([df['testsubject_midpoint_x'], df['testsubject_midpoint_y']])\n",
    "    testsubject_nose = np.array([df['testsubject_nose_x'], df['testsubject_nose_y']])\n",
    "    midpoint_to_midpoint = intruder_midpoint - testsubject_midpoint\n",
    "    midpoint_to_nose = testsubject_nose - testsubject_midpoint\n",
    "    return midpoint_to_midpoint, midpoint_to_nose\n",
    "\n",
    "def get_angles(midpoint_to_midpoint, midpoint_to_nose):\n",
    "    orientation_list = []\n",
    "    for i in range(midpoint_to_midpoint.shape[1]-1):\n",
    "        BA = np.reshape(midpoint_to_nose[:,i:i+1], (2,))\n",
    "        BC = np.reshape(midpoint_to_midpoint[:,i:i+1], (2,))\n",
    "        cosine_angle = np.dot(BA, BC/ (np.linalg.norm(BA) * np.linalg.norm(BC)))\n",
    "        angle = np.arccos(cosine_angle)\n",
    "        orientation_list.append(np.degrees(angle))\n",
    "    orientation_df = pd.DataFrame(orientation_list)\n",
    "    orientation_df.columns = ['orientation_to_intruder']\n",
    "    return orientation_df\n",
    "\n",
    "\n",
    "### Finds the angle of orientation between the test subject and the intruder\n",
    "def get_test_orientation_to_intruder(df):\n",
    "    midpoint_to_midpoint, midpoint_to_nose = get_vector_lengths(df)\n",
    "    theta = get_angles(midpoint_to_midpoint, midpoint_to_nose)\n",
    "    return theta"
   ]
  },
  {
   "cell_type": "markdown",
   "metadata": {},
   "source": [
    "## Formulas to extract all features"
   ]
  },
  {
   "cell_type": "code",
   "execution_count": 143,
   "metadata": {},
   "outputs": [],
   "source": [
    "def extract_features(df):\n",
    "    feature_list = []\n",
    "\n",
    "    #between centroid distance\n",
    "    dist_between_mice_midpoints = get_distance_between_mice(df, 'testsubject', 'midpoint', 'intruder', 'midpoint')\n",
    "    dist_between_mice_midpoints.columns = ['dist_between_mice']\n",
    "    feature_list.append(dist_between_mice_midpoints)\n",
    "\n",
    "    #distance between test subject rear and intruder nose\n",
    "    dist_between_intruder_nose_and_test_rear = get_distance_between_mice(df, 'testsubject', 'tailbase', 'intruder', 'nose')\n",
    "    dist_between_intruder_nose_and_test_rear.columns = ['intruder_investigation']\n",
    "    feature_list.append(dist_between_intruder_nose_and_test_rear)\n",
    "\n",
    "    #distance between test subject nose and intruder nose\n",
    "    dist_between_mice_noses = get_distance_between_mice(df, 'testsubject', 'nose', 'intruder', 'nose')\n",
    "    dist_between_mice_noses.columns = ['nose_to_nose_investigation']\n",
    "    feature_list.append(dist_between_mice_noses)\n",
    "\n",
    "    #distance from the left edge of the arena\n",
    "    dist_from_left_wall = get_distance_between_edge(df, 'testsubject', 'nose', 'left')\n",
    "    dist_from_left_wall.columns = ['dist_from_left_wall']\n",
    "    feature_list.append(dist_from_left_wall)\n",
    "\n",
    "    #test_subject_rearing\n",
    "    test_subject_nose_height = get_distance_between_edge(df, 'testsubject', 'nose', 'bottom')\n",
    "    test_subject_nose_height.columns = ['test_subject_rearing']\n",
    "    feature_list.append(test_subject_nose_height)\n",
    "\n",
    "    #intruder_rearing\n",
    "    intruder_nose_height = get_distance_between_edge(df, 'intruder', 'nose', 'bottom')\n",
    "    intruder_nose_height.columns = ['intruder_rearing']\n",
    "    feature_list.append(intruder_nose_height)\n",
    "\n",
    "    #Velocity of the test subject\n",
    "    test_subject_speed_data = get_velocity(df, 'testsubject', 'midpoint')\n",
    "    test_subject_velocity = clean_velocity(test_subject_speed_data)\n",
    "    test_subject_velocity.columns = ['test_subject_velocity']\n",
    "    feature_list.append(test_subject_velocity)\n",
    "\n",
    "    #Velocity of the intruder subject\n",
    "    intruder_speed_data = get_velocity(df, 'intruder', 'midpoint')\n",
    "    intruder_velocity = clean_velocity(intruder_speed_data)\n",
    "    intruder_velocity.columns = ['intruder_velocity']\n",
    "    feature_list.append(intruder_velocity)\n",
    "\n",
    "    #distance between test subject and intruder over time\n",
    "    delta_dif_between_mice = get_velocity_between_mice(df, 'testsubject', 'midpoint', 'intruder', 'midpoint')\n",
    "    velocity_between_mice = clean_velocity(delta_dif_between_mice)\n",
    "    velocity_between_mice.columns = ['velocity_between_mice']\n",
    "    feature_list.append(velocity_between_mice)\n",
    "\n",
    "    #orientation of the test mouse to the intruder (measured in degrees)\n",
    "    orientation_to_intruder = get_test_orientation_to_intruder(df)\n",
    "    orientation_to_intruder.columns = ['orientation_to_intruder']\n",
    "    feature_list.append(orientation_to_intruder)\n",
    "\n",
    "    return feature_list\n",
    "\n",
    "def compile_features(feature_list):\n",
    "    compiled_features = pd.concat(feature_list, axis = 1)\n",
    "    return compiled_features"
   ]
  },
  {
   "cell_type": "code",
   "execution_count": 144,
   "metadata": {},
   "outputs": [],
   "source": [
    "for raw_data in dlc_data_dict:\n",
    "    feature_list = extract_features(dlc_data_dict[raw_data])\n",
    "    compiled_features = compile_features(feature_list)\n",
    "    compiled_features.to_csv(f'/Users/carlydrzewiecki/Desktop/trainor_cluster/extracted_features_output/{raw_data}_compiled_features.csv')"
   ]
  },
  {
   "cell_type": "code",
   "execution_count": null,
   "metadata": {},
   "outputs": [],
   "source": []
  }
 ],
 "metadata": {
  "kernelspec": {
   "display_name": "base",
   "language": "python",
   "name": "python3"
  },
  "language_info": {
   "codemirror_mode": {
    "name": "ipython",
    "version": 3
   },
   "file_extension": ".py",
   "mimetype": "text/x-python",
   "name": "python",
   "nbconvert_exporter": "python",
   "pygments_lexer": "ipython3",
   "version": "3.9.12"
  },
  "orig_nbformat": 4,
  "vscode": {
   "interpreter": {
    "hash": "40d3a090f54c6569ab1632332b64b2c03c39dcf918b08424e98f38b5ae0af88f"
   }
  }
 },
 "nbformat": 4,
 "nbformat_minor": 2
}
